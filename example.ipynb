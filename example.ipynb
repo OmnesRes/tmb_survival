{
 "cells": [
  {
   "cell_type": "markdown",
   "metadata": {},
   "source": [
    "An example illustrating how to use our model to fit to a dataset containing events, times, and TMB values.  When comparing different models test folds should be used."
   ]
  },
  {
   "cell_type": "code",
   "execution_count": null,
   "metadata": {},
   "outputs": [],
   "source": [
    "import pathlib\n",
    "path = pathlib.Path.cwd()\n",
    "if path.stem == 'tmb_survival':\n",
    "    cwd = path\n",
    "else:\n",
    "    cwd = list(path.parents)[::-1][path.parts.index('tmb_survival')]\n",
    "import sys\n",
    "sys.path.append(str(cwd))\n",
    "import pickle\n",
    "import numpy as np\n",
    "from model.model import Encoders, NN\n",
    "from model.layers import Losses\n",
    "from model import utils\n",
    "import tensorflow as tf\n",
    "from lifelines.utils import concordance_index\n",
    "from matplotlib import pyplot as plt\n",
    "import pickle\n",
    "\n",
    "physical_devices = tf.config.experimental.list_physical_devices('GPU')\n",
    "tf.config.experimental.set_memory_growth(physical_devices[-1], True)\n",
    "tf.config.experimental.set_visible_devices(physical_devices[-1], 'GPU')"
   ]
  },
  {
   "cell_type": "markdown",
   "metadata": {},
   "source": [
    "Load a data table for TCGA SKCM."
   ]
  },
  {
   "cell_type": "code",
   "execution_count": 2,
   "metadata": {},
   "outputs": [],
   "source": [
    "df = pickle.load(open(cwd / 'files' / 'SKCM_data.pkl', 'rb'))"
   ]
  },
  {
   "cell_type": "markdown",
   "metadata": {},
   "source": [
    "Instantiate a log transformer object"
   ]
  },
  {
   "cell_type": "code",
   "execution_count": 3,
   "metadata": {},
   "outputs": [],
   "source": [
    "t = utils.LogTransform(bias=4, min_x=0)"
   ]
  },
  {
   "cell_type": "markdown",
   "metadata": {},
   "source": [
    "Prepare the data."
   ]
  },
  {
   "cell_type": "code",
   "execution_count": 4,
   "metadata": {},
   "outputs": [],
   "source": [
    "tmb = t.trf(df.tmb.values)[:, np.newaxis]\n",
    "times = df['OS.time'].values[:, np.newaxis]\n",
    "events = df['OS'].values[:, np.newaxis]\n",
    "cancer_strat = np.zeros_like(df['tmb']) ##no cancer info, if there are multiple cancers can stratify by cancer type\n",
    "y_label = np.stack(np.concatenate([times, events, cancer_strat[:, np.newaxis]], axis=-1))"
   ]
  },
  {
   "cell_type": "markdown",
   "metadata": {},
   "source": [
    "Create a tensorflow dataset."
   ]
  },
  {
   "cell_type": "code",
   "execution_count": null,
   "metadata": {},
   "outputs": [],
   "source": [
    "ds_all = tf.data.Dataset.from_tensor_slices((\n",
    "                                            (\n",
    "                                                tmb\n",
    "                                            ),\n",
    "                                            (\n",
    "                                                y_label,\n",
    "                                            ),\n",
    "                                            ))\n",
    "\n",
    "ds_all = ds_all.batch(len(y_label), drop_remainder=False).repeat()"
   ]
  },
  {
   "cell_type": "markdown",
   "metadata": {},
   "source": [
    "Create a callback to stop training."
   ]
  },
  {
   "cell_type": "code",
   "execution_count": 6,
   "metadata": {},
   "outputs": [],
   "source": [
    "callbacks = [tf.keras.callbacks.EarlyStopping(monitor='loss', min_delta=0.0001, patience=30, mode='min', restore_best_weights=True)]"
   ]
  },
  {
   "cell_type": "markdown",
   "metadata": {},
   "source": [
    "Create our model.  The model allows for a list of encoders for if there are multiple inputs.  We have a single input, TMB, so we only need one encoder."
   ]
  },
  {
   "cell_type": "code",
   "execution_count": 7,
   "metadata": {},
   "outputs": [],
   "source": [
    "encoder_1 = Encoders.Encoder(shape=(1,), layers=(128, 128), dropout=.05)\n",
    "net = NN(encoders=[encoder_1.model], layers=(), norm=True)\n",
    "net.model.compile(loss=Losses.CoxPH(cancers=1),\n",
    "                    optimizer=tf.keras.optimizers.Adam(learning_rate=0.001))"
   ]
  },
  {
   "cell_type": "markdown",
   "metadata": {},
   "source": [
    "Fit the model."
   ]
  },
  {
   "cell_type": "code",
   "execution_count": 9,
   "metadata": {},
   "outputs": [
    {
     "name": "stdout",
     "output_type": "stream",
     "text": [
      "Epoch 1/500\n"
     ]
    },
    {
     "name": "stderr",
     "output_type": "stream",
     "text": [
      "2024-04-04 16:28:14.712916: I tensorflow/core/common_runtime/executor.cc:1197] [/device:CPU:0] (DEBUG INFO) Executor start aborting (this does not indicate an error and you can ignore this message): INVALID_ARGUMENT: You must feed a value for placeholder tensor 'Placeholder/_1' with dtype double and shape [450,3]\n",
      "\t [[{{node Placeholder/_1}}]]\n",
      "2024-04-04 16:28:17.366928: I tensorflow/compiler/xla/stream_executor/cuda/cuda_blas.cc:637] TensorFloat-32 will be used for the matrix multiplication. This will only be logged once.\n",
      "2024-04-04 16:28:17.438540: I tensorflow/compiler/xla/service/service.cc:169] XLA service 0x66afd70 initialized for platform CUDA (this does not guarantee that XLA will be used). Devices:\n",
      "2024-04-04 16:28:17.438573: I tensorflow/compiler/xla/service/service.cc:177]   StreamExecutor device (0): NVIDIA RTX A2000 Laptop GPU, Compute Capability 8.6\n",
      "2024-04-04 16:28:17.482583: I tensorflow/compiler/mlir/tensorflow/utils/dump_mlir_util.cc:269] disabling MLIR crash reproducer, set env var `MLIR_CRASH_REPRODUCER_DIRECTORY` to enable.\n",
      "2024-04-04 16:28:18.891685: I tensorflow/compiler/xla/stream_executor/cuda/cuda_dnn.cc:424] Loaded cuDNN version 8201\n",
      "2024-04-04 16:28:19.170213: I ./tensorflow/compiler/jit/device_compiler.h:180] Compiled cluster using XLA!  This line is logged at most once for the lifetime of the process.\n"
     ]
    },
    {
     "name": "stdout",
     "output_type": "stream",
     "text": [
      "10/10 [==============================] - 5s 11ms/step - loss: 2.5918\n",
      "Epoch 2/500\n",
      "10/10 [==============================] - 0s 10ms/step - loss: 2.5528\n",
      "Epoch 3/500\n",
      "10/10 [==============================] - 0s 10ms/step - loss: 2.5248\n",
      "Epoch 4/500\n",
      "10/10 [==============================] - 0s 10ms/step - loss: 2.5284\n",
      "Epoch 5/500\n",
      "10/10 [==============================] - 0s 9ms/step - loss: 2.5245\n",
      "Epoch 6/500\n",
      "10/10 [==============================] - 0s 9ms/step - loss: 2.5135\n",
      "Epoch 7/500\n",
      "10/10 [==============================] - 0s 9ms/step - loss: 2.5177\n",
      "Epoch 8/500\n",
      "10/10 [==============================] - 0s 10ms/step - loss: 2.5139\n",
      "Epoch 9/500\n",
      "10/10 [==============================] - 0s 10ms/step - loss: 2.5086\n",
      "Epoch 10/500\n",
      "10/10 [==============================] - 0s 9ms/step - loss: 2.5094\n",
      "Epoch 11/500\n",
      "10/10 [==============================] - 0s 9ms/step - loss: 2.5000\n",
      "Epoch 12/500\n",
      "10/10 [==============================] - 0s 10ms/step - loss: 2.5057\n",
      "Epoch 13/500\n",
      "10/10 [==============================] - 0s 10ms/step - loss: 2.5064\n",
      "Epoch 14/500\n",
      "10/10 [==============================] - 0s 9ms/step - loss: 2.4994\n",
      "Epoch 15/500\n",
      "10/10 [==============================] - 0s 10ms/step - loss: 2.4934\n",
      "Epoch 16/500\n",
      "10/10 [==============================] - 0s 9ms/step - loss: 2.4947\n",
      "Epoch 17/500\n",
      "10/10 [==============================] - 0s 9ms/step - loss: 2.4932\n",
      "Epoch 18/500\n",
      "10/10 [==============================] - 0s 10ms/step - loss: 2.4878\n",
      "Epoch 19/500\n",
      "10/10 [==============================] - 0s 9ms/step - loss: 2.4883\n",
      "Epoch 20/500\n",
      "10/10 [==============================] - 0s 10ms/step - loss: 2.4893\n",
      "Epoch 21/500\n",
      "10/10 [==============================] - 0s 10ms/step - loss: 2.4851\n",
      "Epoch 22/500\n",
      "10/10 [==============================] - 0s 10ms/step - loss: 2.4818\n",
      "Epoch 23/500\n",
      "10/10 [==============================] - 0s 10ms/step - loss: 2.4773\n",
      "Epoch 24/500\n",
      "10/10 [==============================] - 0s 9ms/step - loss: 2.4789\n",
      "Epoch 25/500\n",
      "10/10 [==============================] - 0s 10ms/step - loss: 2.4796\n",
      "Epoch 26/500\n",
      "10/10 [==============================] - 0s 9ms/step - loss: 2.4751\n",
      "Epoch 27/500\n",
      "10/10 [==============================] - 0s 9ms/step - loss: 2.4746\n",
      "Epoch 28/500\n",
      "10/10 [==============================] - 0s 9ms/step - loss: 2.4676\n",
      "Epoch 29/500\n",
      "10/10 [==============================] - 0s 9ms/step - loss: 2.4707\n",
      "Epoch 30/500\n",
      "10/10 [==============================] - 0s 9ms/step - loss: 2.4698\n",
      "Epoch 31/500\n",
      "10/10 [==============================] - 0s 10ms/step - loss: 2.4682\n",
      "Epoch 32/500\n",
      "10/10 [==============================] - 0s 9ms/step - loss: 2.4631\n",
      "Epoch 33/500\n",
      "10/10 [==============================] - 0s 10ms/step - loss: 2.4605\n",
      "Epoch 34/500\n",
      "10/10 [==============================] - 0s 9ms/step - loss: 2.4571\n",
      "Epoch 35/500\n",
      "10/10 [==============================] - 0s 9ms/step - loss: 2.4577\n",
      "Epoch 36/500\n",
      "10/10 [==============================] - 0s 9ms/step - loss: 2.4562\n",
      "Epoch 37/500\n",
      "10/10 [==============================] - 0s 9ms/step - loss: 2.4546\n",
      "Epoch 38/500\n",
      "10/10 [==============================] - 0s 9ms/step - loss: 2.4509\n",
      "Epoch 39/500\n",
      "10/10 [==============================] - 0s 10ms/step - loss: 2.4501\n",
      "Epoch 40/500\n",
      "10/10 [==============================] - 0s 9ms/step - loss: 2.4484\n",
      "Epoch 41/500\n",
      "10/10 [==============================] - 0s 9ms/step - loss: 2.4463\n",
      "Epoch 42/500\n",
      "10/10 [==============================] - 0s 9ms/step - loss: 2.4435\n",
      "Epoch 43/500\n",
      "10/10 [==============================] - 0s 9ms/step - loss: 2.4403\n",
      "Epoch 44/500\n",
      "10/10 [==============================] - 0s 9ms/step - loss: 2.4400\n",
      "Epoch 45/500\n",
      "10/10 [==============================] - 0s 9ms/step - loss: 2.4378\n",
      "Epoch 46/500\n",
      "10/10 [==============================] - 0s 9ms/step - loss: 2.4367\n",
      "Epoch 47/500\n",
      "10/10 [==============================] - 0s 9ms/step - loss: 2.4346\n",
      "Epoch 48/500\n",
      "10/10 [==============================] - 0s 10ms/step - loss: 2.4305\n",
      "Epoch 49/500\n",
      "10/10 [==============================] - 0s 9ms/step - loss: 2.4296\n",
      "Epoch 50/500\n",
      "10/10 [==============================] - 0s 9ms/step - loss: 2.4271\n",
      "Epoch 51/500\n",
      "10/10 [==============================] - 0s 12ms/step - loss: 2.4255\n",
      "Epoch 52/500\n",
      "10/10 [==============================] - 0s 13ms/step - loss: 2.4230\n",
      "Epoch 53/500\n",
      "10/10 [==============================] - 0s 10ms/step - loss: 2.4222\n",
      "Epoch 54/500\n",
      "10/10 [==============================] - 0s 10ms/step - loss: 2.4169\n",
      "Epoch 55/500\n",
      "10/10 [==============================] - 0s 9ms/step - loss: 2.4148\n",
      "Epoch 56/500\n",
      "10/10 [==============================] - 0s 9ms/step - loss: 2.4127\n",
      "Epoch 57/500\n",
      "10/10 [==============================] - 0s 9ms/step - loss: 2.4084\n",
      "Epoch 58/500\n",
      "10/10 [==============================] - 0s 9ms/step - loss: 2.4097\n",
      "Epoch 59/500\n",
      "10/10 [==============================] - 0s 10ms/step - loss: 2.4062\n",
      "Epoch 60/500\n",
      "10/10 [==============================] - 0s 9ms/step - loss: 2.4086\n",
      "Epoch 61/500\n",
      "10/10 [==============================] - 0s 9ms/step - loss: 2.4033\n",
      "Epoch 62/500\n",
      "10/10 [==============================] - 0s 11ms/step - loss: 2.4030\n",
      "Epoch 63/500\n",
      "10/10 [==============================] - 0s 10ms/step - loss: 2.4004\n",
      "Epoch 64/500\n",
      "10/10 [==============================] - 0s 8ms/step - loss: 2.4032\n",
      "Epoch 65/500\n",
      "10/10 [==============================] - 0s 9ms/step - loss: 2.3980\n",
      "Epoch 66/500\n",
      "10/10 [==============================] - 0s 9ms/step - loss: 2.4016\n",
      "Epoch 67/500\n",
      "10/10 [==============================] - 0s 9ms/step - loss: 2.4015\n",
      "Epoch 68/500\n",
      "10/10 [==============================] - 0s 9ms/step - loss: 2.3974\n",
      "Epoch 69/500\n",
      "10/10 [==============================] - 0s 9ms/step - loss: 2.3999\n",
      "Epoch 70/500\n",
      "10/10 [==============================] - 0s 9ms/step - loss: 2.3972\n",
      "Epoch 71/500\n",
      "10/10 [==============================] - 0s 9ms/step - loss: 2.3991\n",
      "Epoch 72/500\n",
      "10/10 [==============================] - 0s 9ms/step - loss: 2.3970\n",
      "Epoch 73/500\n",
      "10/10 [==============================] - 0s 9ms/step - loss: 2.3951\n",
      "Epoch 74/500\n",
      "10/10 [==============================] - 0s 9ms/step - loss: 2.3993\n",
      "Epoch 75/500\n",
      "10/10 [==============================] - 0s 10ms/step - loss: 2.3973\n",
      "Epoch 76/500\n",
      "10/10 [==============================] - 0s 10ms/step - loss: 2.3979\n",
      "Epoch 77/500\n",
      "10/10 [==============================] - 0s 9ms/step - loss: 2.3970\n",
      "Epoch 78/500\n",
      "10/10 [==============================] - 0s 8ms/step - loss: 2.3962\n",
      "Epoch 79/500\n",
      "10/10 [==============================] - 0s 9ms/step - loss: 2.3954\n",
      "Epoch 80/500\n",
      "10/10 [==============================] - 0s 9ms/step - loss: 2.3941\n",
      "Epoch 81/500\n",
      "10/10 [==============================] - 0s 9ms/step - loss: 2.3950\n",
      "Epoch 82/500\n",
      "10/10 [==============================] - 0s 10ms/step - loss: 2.3962\n",
      "Epoch 83/500\n",
      "10/10 [==============================] - 0s 9ms/step - loss: 2.3943\n",
      "Epoch 84/500\n",
      "10/10 [==============================] - 0s 9ms/step - loss: 2.3938\n",
      "Epoch 85/500\n",
      "10/10 [==============================] - 0s 9ms/step - loss: 2.3941\n",
      "Epoch 86/500\n",
      "10/10 [==============================] - 0s 9ms/step - loss: 2.3938\n",
      "Epoch 87/500\n",
      "10/10 [==============================] - 0s 9ms/step - loss: 2.3951\n",
      "Epoch 88/500\n",
      "10/10 [==============================] - 0s 9ms/step - loss: 2.3942\n",
      "Epoch 89/500\n",
      "10/10 [==============================] - 0s 9ms/step - loss: 2.3943\n",
      "Epoch 90/500\n",
      "10/10 [==============================] - 0s 9ms/step - loss: 2.3944\n",
      "Epoch 91/500\n",
      "10/10 [==============================] - 0s 10ms/step - loss: 2.3946\n",
      "Epoch 92/500\n",
      "10/10 [==============================] - 0s 10ms/step - loss: 2.3962\n",
      "Epoch 93/500\n",
      "10/10 [==============================] - 0s 10ms/step - loss: 2.3930\n",
      "Epoch 94/500\n",
      "10/10 [==============================] - 0s 9ms/step - loss: 2.3923\n",
      "Epoch 95/500\n",
      "10/10 [==============================] - 0s 9ms/step - loss: 2.3914\n",
      "Epoch 96/500\n",
      "10/10 [==============================] - 0s 9ms/step - loss: 2.3933\n",
      "Epoch 97/500\n",
      "10/10 [==============================] - 0s 9ms/step - loss: 2.3942\n",
      "Epoch 98/500\n",
      "10/10 [==============================] - 0s 9ms/step - loss: 2.3950\n",
      "Epoch 99/500\n",
      "10/10 [==============================] - 0s 9ms/step - loss: 2.3938\n",
      "Epoch 100/500\n",
      "10/10 [==============================] - 0s 9ms/step - loss: 2.3932\n",
      "Epoch 101/500\n",
      "10/10 [==============================] - 0s 10ms/step - loss: 2.3931\n",
      "Epoch 102/500\n",
      "10/10 [==============================] - 0s 10ms/step - loss: 2.3936\n",
      "Epoch 103/500\n",
      "10/10 [==============================] - 0s 9ms/step - loss: 2.3928\n",
      "Epoch 104/500\n",
      "10/10 [==============================] - 0s 9ms/step - loss: 2.3936\n",
      "Epoch 105/500\n",
      "10/10 [==============================] - 0s 10ms/step - loss: 2.3928\n",
      "Epoch 106/500\n",
      "10/10 [==============================] - 0s 9ms/step - loss: 2.3914\n",
      "Epoch 107/500\n",
      "10/10 [==============================] - 0s 10ms/step - loss: 2.3931\n",
      "Epoch 108/500\n",
      "10/10 [==============================] - 0s 9ms/step - loss: 2.3934\n",
      "Epoch 109/500\n",
      "10/10 [==============================] - 0s 10ms/step - loss: 2.3932\n",
      "Epoch 110/500\n",
      "10/10 [==============================] - 0s 10ms/step - loss: 2.3919\n",
      "Epoch 111/500\n",
      "10/10 [==============================] - 0s 9ms/step - loss: 2.3941\n",
      "Epoch 112/500\n",
      "10/10 [==============================] - 0s 9ms/step - loss: 2.3938\n",
      "Epoch 113/500\n",
      "10/10 [==============================] - 0s 9ms/step - loss: 2.3938\n",
      "Epoch 114/500\n",
      "10/10 [==============================] - 0s 12ms/step - loss: 2.3939\n",
      "Epoch 115/500\n",
      "10/10 [==============================] - 0s 9ms/step - loss: 2.3933\n",
      "Epoch 116/500\n",
      "10/10 [==============================] - 0s 9ms/step - loss: 2.3925\n",
      "Epoch 117/500\n",
      "10/10 [==============================] - 0s 10ms/step - loss: 2.3932\n",
      "Epoch 118/500\n",
      "10/10 [==============================] - 0s 9ms/step - loss: 2.3935\n",
      "Epoch 119/500\n",
      "10/10 [==============================] - 0s 9ms/step - loss: 2.3923\n",
      "Epoch 120/500\n",
      "10/10 [==============================] - 0s 9ms/step - loss: 2.3914\n",
      "Epoch 121/500\n",
      "10/10 [==============================] - 0s 10ms/step - loss: 2.3925\n",
      "Epoch 122/500\n",
      "10/10 [==============================] - 0s 11ms/step - loss: 2.3917\n",
      "Epoch 123/500\n",
      "10/10 [==============================] - 0s 10ms/step - loss: 2.3901\n",
      "Epoch 124/500\n",
      "10/10 [==============================] - 0s 9ms/step - loss: 2.3918\n",
      "Epoch 125/500\n",
      "10/10 [==============================] - 0s 9ms/step - loss: 2.3929\n",
      "Epoch 126/500\n",
      "10/10 [==============================] - 0s 9ms/step - loss: 2.3935\n",
      "Epoch 127/500\n",
      "10/10 [==============================] - 0s 9ms/step - loss: 2.3915\n",
      "Epoch 128/500\n",
      "10/10 [==============================] - 0s 9ms/step - loss: 2.3917\n",
      "Epoch 129/500\n",
      "10/10 [==============================] - 0s 9ms/step - loss: 2.3923\n",
      "Epoch 130/500\n",
      "10/10 [==============================] - 0s 9ms/step - loss: 2.3925\n",
      "Epoch 131/500\n",
      "10/10 [==============================] - 0s 9ms/step - loss: 2.3922\n",
      "Epoch 132/500\n",
      "10/10 [==============================] - 0s 9ms/step - loss: 2.3931\n",
      "Epoch 133/500\n",
      "10/10 [==============================] - 0s 9ms/step - loss: 2.3906\n",
      "Epoch 134/500\n",
      "10/10 [==============================] - 0s 9ms/step - loss: 2.3904\n",
      "Epoch 135/500\n",
      "10/10 [==============================] - 0s 9ms/step - loss: 2.3928\n",
      "Epoch 136/500\n",
      "10/10 [==============================] - 0s 10ms/step - loss: 2.3946\n",
      "Epoch 137/500\n",
      "10/10 [==============================] - 0s 8ms/step - loss: 2.3924\n",
      "Epoch 138/500\n",
      "10/10 [==============================] - 0s 9ms/step - loss: 2.3921\n",
      "Epoch 139/500\n",
      "10/10 [==============================] - 0s 9ms/step - loss: 2.3921\n",
      "Epoch 140/500\n",
      "10/10 [==============================] - 0s 9ms/step - loss: 2.3912\n",
      "Epoch 141/500\n",
      "10/10 [==============================] - 0s 9ms/step - loss: 2.3903\n",
      "Epoch 142/500\n",
      "10/10 [==============================] - 0s 9ms/step - loss: 2.3926\n",
      "Epoch 143/500\n",
      "10/10 [==============================] - 0s 8ms/step - loss: 2.3930\n",
      "Epoch 144/500\n",
      "10/10 [==============================] - 0s 9ms/step - loss: 2.3925\n",
      "Epoch 145/500\n",
      "10/10 [==============================] - 0s 10ms/step - loss: 2.3915\n",
      "Epoch 146/500\n",
      "10/10 [==============================] - 0s 9ms/step - loss: 2.3916\n",
      "Epoch 147/500\n",
      "10/10 [==============================] - 0s 9ms/step - loss: 2.3921\n",
      "Epoch 148/500\n",
      "10/10 [==============================] - 0s 9ms/step - loss: 2.3917\n",
      "Epoch 149/500\n",
      "10/10 [==============================] - 0s 10ms/step - loss: 2.3916\n",
      "Epoch 150/500\n",
      "10/10 [==============================] - 0s 10ms/step - loss: 2.3909\n",
      "Epoch 151/500\n",
      "10/10 [==============================] - 0s 9ms/step - loss: 2.3915\n",
      "Epoch 152/500\n",
      "10/10 [==============================] - 0s 10ms/step - loss: 2.3914\n",
      "Epoch 153/500\n",
      "10/10 [==============================] - 0s 10ms/step - loss: 2.3916\n"
     ]
    },
    {
     "data": {
      "text/plain": [
       "<keras.callbacks.History at 0x7fa362a67940>"
      ]
     },
     "execution_count": 9,
     "metadata": {},
     "output_type": "execute_result"
    }
   ],
   "source": [
    "net.model.fit(ds_all, callbacks=callbacks, epochs=500, steps_per_epoch=10)"
   ]
  },
  {
   "cell_type": "markdown",
   "metadata": {},
   "source": [
    "Obtain the model risks."
   ]
  },
  {
   "cell_type": "code",
   "execution_count": 10,
   "metadata": {},
   "outputs": [
    {
     "name": "stdout",
     "output_type": "stream",
     "text": [
      "1/1 [==============================] - 0s 61ms/step\n"
     ]
    }
   ],
   "source": [
    "risks = net.model.predict(ds_all, steps=1)"
   ]
  },
  {
   "cell_type": "markdown",
   "metadata": {},
   "source": [
    "Plot the risks versus TMB (logged)."
   ]
  },
  {
   "cell_type": "code",
   "execution_count": 11,
   "metadata": {},
   "outputs": [
    {
     "data": {
      "text/plain": [
       "<matplotlib.collections.PathCollection at 0x7fa2b3e49d50>"
      ]
     },
     "execution_count": 11,
     "metadata": {},
     "output_type": "execute_result"
    },
    {
     "data": {
      "image/png": "[encoded data removed]",
      "text/plain": [
       "<Figure size 640x480 with 1 Axes>"
      ]
     },
     "metadata": {},
     "output_type": "display_data"
    }
   ],
   "source": [
    "plt.scatter(tmb, risks)"
   ]
  },
  {
   "cell_type": "markdown",
   "metadata": {},
   "source": [
    "Check the concordance index."
   ]
  },
  {
   "cell_type": "code",
   "execution_count": 13,
   "metadata": {},
   "outputs": [
    {
     "data": {
      "text/plain": [
       "0.621805561345729"
      ]
     },
     "execution_count": 13,
     "metadata": {},
     "output_type": "execute_result"
    }
   ],
   "source": [
    "concordance_index(times, -risks, events)"
   ]
  }
 ],
 "metadata": {
  "kernelspec": {
   "display_name": "tf-2.12",
   "language": "python",
   "name": "python3"
  },
  "language_info": {
   "codemirror_mode": {
    "name": "ipython",
    "version": 3
   },
   "file_extension": ".py",
   "mimetype": "text/x-python",
   "name": "python",
   "nbconvert_exporter": "python",
   "pygments_lexer": "ipython3",
   "version": "3.10.12"
  }
 },
 "nbformat": 4,
 "nbformat_minor": 2
}
